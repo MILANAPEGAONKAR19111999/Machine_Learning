{
  "nbformat": 4,
  "nbformat_minor": 0,
  "metadata": {
    "colab": {
      "name": "Untitled0.ipynb",
      "version": "0.3.2",
      "provenance": [],
      "collapsed_sections": []
    },
    "kernelspec": {
      "name": "python3",
      "display_name": "Python 3"
    },
    "accelerator": "GPU"
  },
  "cells": [
    {
      "cell_type": "code",
      "metadata": {
        "id": "2l5P5XjWFM9u",
        "colab_type": "code",
        "outputId": "35171d3a-8c9b-40c7-f9ef-bbe28e14ea15",
        "colab": {
          "base_uri": "https://localhost:8080/",
          "height": 122
        }
      },
      "source": [
        "from google.colab import drive\n",
        "drive.mount('/gdrive')"
      ],
      "execution_count": 0,
      "outputs": [
        {
          "output_type": "stream",
          "text": [
            "Go to this URL in a browser: https://accounts.google.com/o/oauth2/auth?client_id=947318989803-6bn6qk8qdgf4n4g3pfee6491hc0brc4i.apps.googleusercontent.com&redirect_uri=urn%3Aietf%3Awg%3Aoauth%3A2.0%3Aoob&scope=email%20https%3A%2F%2Fwww.googleapis.com%2Fauth%2Fdocs.test%20https%3A%2F%2Fwww.googleapis.com%2Fauth%2Fdrive%20https%3A%2F%2Fwww.googleapis.com%2Fauth%2Fdrive.photos.readonly%20https%3A%2F%2Fwww.googleapis.com%2Fauth%2Fpeopleapi.readonly&response_type=code\n",
            "\n",
            "Enter your authorization code:\n",
            "··········\n",
            "Mounted at /gdrive\n"
          ],
          "name": "stdout"
        }
      ]
    },
    {
      "cell_type": "code",
      "metadata": {
        "id": "ERBqxeNbHTn3",
        "colab_type": "code",
        "colab": {}
      },
      "source": [
        "import pandas as pd\n",
        "import numpy as np\n",
        "import re"
      ],
      "execution_count": 0,
      "outputs": []
    },
    {
      "cell_type": "code",
      "metadata": {
        "id": "IkJjg0-67Qo5",
        "colab_type": "code",
        "outputId": "5edfa5eb-a4e3-48f7-988d-d218195f7a97",
        "colab": {
          "base_uri": "https://localhost:8080/",
          "height": 102
        }
      },
      "source": [
        "import tweepy\n",
        "import csv\n",
        "import pandas as pd\n",
        "\n",
        " \n",
        "consumer_key = 'AKI9fZMigcSlavj0b6gkk4hvj'\n",
        "consumer_secret ='0mbcACUYQQCABcN9LLybSQEabKMyaaWBrZhMci0N6VD06hEsXQ' \n",
        "access_token = '1126460935307022337-KIzJzexv0uFjawQdBGUN4bckQ9sJKM'\n",
        "access_token_secret = '49lHIBOw2teIX97La13oFFRc08DdWP4KyyBUoSCeoQirE'\n",
        "print(\"enter the # to be searched\")\n",
        "search=input()\n",
        "\n",
        "auth = tweepy.OAuthHandler(consumer_key, consumer_secret)\n",
        "auth.set_access_token(access_token, access_token_secret)\n",
        "api = tweepy.API(auth,wait_on_rate_limit=True)\n",
        "start_date=input()\n",
        "print(\"end date\")\n",
        "end_date=input()\n",
        "tweets=[]\n",
        "time=[]\n",
        "\n",
        "for tweet in tweepy.Cursor(api.search,q=search,count=100000,\n",
        "                           lang=\"en\",\n",
        "                           since=start_date).items():\n",
        "  tweets.append(tweet.text)\n",
        "  time.append(tweet.created_at)\n",
        "df=pd.DataFrame({'Message':tweets,'CreateAt':time})\n",
        "df.to_csv(\"my tweets.csv\")\n",
        "\n"
      ],
      "execution_count": 0,
      "outputs": [
        {
          "output_type": "stream",
          "text": [
            "enter the # to be searched\n",
            "#reliance\n",
            "2019-01-01\n",
            "end date\n",
            "2019-01-01\n"
          ],
          "name": "stdout"
        }
      ]
    },
    {
      "cell_type": "code",
      "metadata": {
        "id": "Merz_fBUadyI",
        "colab_type": "code",
        "outputId": "58282392-8208-4167-aa52-113e9bcb9294",
        "colab": {
          "base_uri": "https://localhost:8080/",
          "height": 34
        }
      },
      "source": [
        "!ls"
      ],
      "execution_count": 0,
      "outputs": [
        {
          "output_type": "stream",
          "text": [
            "'my tweets.csv'   sample_data\n"
          ],
          "name": "stdout"
        }
      ]
    },
    {
      "cell_type": "code",
      "metadata": {
        "id": "EZNZdm6he4Yu",
        "colab_type": "code",
        "colab": {}
      },
      "source": [
        "data=pd.read_csv('my tweets.csv')"
      ],
      "execution_count": 0,
      "outputs": []
    },
    {
      "cell_type": "code",
      "metadata": {
        "id": "DuVR9nlds-Xc",
        "colab_type": "code",
        "outputId": "684d29af-45a0-451c-b016-31e8816880ee",
        "colab": {
          "base_uri": "https://localhost:8080/",
          "height": 204
        }
      },
      "source": [
        "data.head()"
      ],
      "execution_count": 0,
      "outputs": [
        {
          "output_type": "execute_result",
          "data": {
            "text/html": [
              "<div>\n",
              "<style scoped>\n",
              "    .dataframe tbody tr th:only-of-type {\n",
              "        vertical-align: middle;\n",
              "    }\n",
              "\n",
              "    .dataframe tbody tr th {\n",
              "        vertical-align: top;\n",
              "    }\n",
              "\n",
              "    .dataframe thead th {\n",
              "        text-align: right;\n",
              "    }\n",
              "</style>\n",
              "<table border=\"1\" class=\"dataframe\">\n",
              "  <thead>\n",
              "    <tr style=\"text-align: right;\">\n",
              "      <th></th>\n",
              "      <th>Unnamed: 0</th>\n",
              "      <th>Message</th>\n",
              "      <th>CreateAt</th>\n",
              "    </tr>\n",
              "  </thead>\n",
              "  <tbody>\n",
              "    <tr>\n",
              "      <th>0</th>\n",
              "      <td>0</td>\n",
              "      <td>#REliance Target Achieved! \\n#Reliance #Intrad...</td>\n",
              "      <td>2019-06-10 04:17:13</td>\n",
              "    </tr>\n",
              "    <tr>\n",
              "      <th>1</th>\n",
              "      <td>1</td>\n",
              "      <td>Reliance Intraday Levels:\\nBuy @ 1332 \\nSell @...</td>\n",
              "      <td>2019-06-10 04:03:13</td>\n",
              "    </tr>\n",
              "    <tr>\n",
              "      <th>2</th>\n",
              "      <td>2</td>\n",
              "      <td>🅿🅱\\nDaily Video #PP\\n1. #Feedstock #Styrene #E...</td>\n",
              "      <td>2019-06-10 03:30:00</td>\n",
              "    </tr>\n",
              "    <tr>\n",
              "      <th>3</th>\n",
              "      <td>3</td>\n",
              "      <td>Stocks under watch today\\n#auropharma : BULLIS...</td>\n",
              "      <td>2019-06-10 03:15:07</td>\n",
              "    </tr>\n",
              "    <tr>\n",
              "      <th>4</th>\n",
              "      <td>4</td>\n",
              "      <td>RT @BORN4WIN: Who is the founder of #Wipro?\\n-...</td>\n",
              "      <td>2019-06-10 03:06:32</td>\n",
              "    </tr>\n",
              "  </tbody>\n",
              "</table>\n",
              "</div>"
            ],
            "text/plain": [
              "   Unnamed: 0  ...             CreateAt\n",
              "0           0  ...  2019-06-10 04:17:13\n",
              "1           1  ...  2019-06-10 04:03:13\n",
              "2           2  ...  2019-06-10 03:30:00\n",
              "3           3  ...  2019-06-10 03:15:07\n",
              "4           4  ...  2019-06-10 03:06:32\n",
              "\n",
              "[5 rows x 3 columns]"
            ]
          },
          "metadata": {
            "tags": []
          },
          "execution_count": 8
        }
      ]
    },
    {
      "cell_type": "code",
      "metadata": {
        "id": "vcIwa1nlXimv",
        "colab_type": "code",
        "colab": {}
      },
      "source": [
        "predict_data=[a for a in data.Message]"
      ],
      "execution_count": 0,
      "outputs": []
    },
    {
      "cell_type": "code",
      "metadata": {
        "id": "2HkPIh4m00qg",
        "colab_type": "code",
        "colab": {}
      },
      "source": [
        "import datetime"
      ],
      "execution_count": 0,
      "outputs": []
    },
    {
      "cell_type": "code",
      "metadata": {
        "id": "yxLS9aCns1bq",
        "colab_type": "code",
        "colab": {}
      },
      "source": [
        "time=[a for a in data.CreateAt]"
      ],
      "execution_count": 0,
      "outputs": []
    },
    {
      "cell_type": "code",
      "metadata": {
        "id": "bZgn2ZbG0ayN",
        "colab_type": "code",
        "colab": {}
      },
      "source": [
        "qq=[]\n",
        "for i in time:\n",
        "  qq.append(datetime.datetime.strptime(i, '%Y-%m-%d %H:%M:%S'))"
      ],
      "execution_count": 0,
      "outputs": []
    },
    {
      "cell_type": "code",
      "metadata": {
        "id": "qsZXrnz1Yu1p",
        "colab_type": "code",
        "colab": {}
      },
      "source": [
        "z=[]\n",
        "for i in predict_data:\n",
        "  i=str(i)\n",
        "  t=\" \".join(filter(lambda x:x[0]!='@', i.split()))\n",
        "  z.append(t)\n",
        "  "
      ],
      "execution_count": 0,
      "outputs": []
    },
    {
      "cell_type": "code",
      "metadata": {
        "id": "Cz3iYJ94ZEt3",
        "colab_type": "code",
        "colab": {}
      },
      "source": [
        "z1=[]\n",
        "for i in z:\n",
        "  t=''.join(i.split('#'))\n",
        "  z1.append(t)"
      ],
      "execution_count": 0,
      "outputs": []
    },
    {
      "cell_type": "code",
      "metadata": {
        "id": "zUaE5mmjZYkX",
        "colab_type": "code",
        "colab": {}
      },
      "source": [
        "z2=[]\n",
        "for i in z1:\n",
        "  t=re.sub(r'''(?i)\\b((?:https?://|www\\d{0,3}[.]|[a-z0-9.\\-]+[.][a-z]{2,4}/)(?:[^\\s()<>]+|\\(([^\\s()<>]+|(\\([^\\s()<>]+\\)))*\\))+(?:\\(([^\\s()<>]+|(\\([^\\s()<>]+\\)))*\\)|[^\\s`!()\\[\\]{};:'\".,<>?«»“”‘’]))''', \" \", i)\n",
        "  z2.append(t)"
      ],
      "execution_count": 0,
      "outputs": []
    },
    {
      "cell_type": "code",
      "metadata": {
        "id": "e20_a_9UYdo4",
        "colab_type": "code",
        "outputId": "193074b6-ed78-46ef-c20e-f18c419a898f",
        "colab": {
          "base_uri": "https://localhost:8080/",
          "height": 207
        }
      },
      "source": [
        "import tensorflow as tf\n",
        "import tensorflow_hub as hub\n",
        "module_url = \"https://tfhub.dev/google/universal-sentence-encoder-large/3\"\n",
        "# Import the Universal Sentence Encoder's TF Hub module\n",
        "embed = hub.Module(module_url)\n",
        "with tf.Session() as session:\n",
        "  session.run([tf.global_variables_initializer(), tf.tables_initializer()])\n",
        "  predict_embeddings = session.run(embed(z2[0:10000]))\n"
      ],
      "execution_count": 0,
      "outputs": [
        {
          "output_type": "stream",
          "text": [
            "WARNING: Logging before flag parsing goes to stderr.\n",
            "W0610 04:24:45.433963 140440550578048 __init__.py:56] Some hub symbols are not available because TensorFlow version is less than 1.14\n"
          ],
          "name": "stderr"
        },
        {
          "output_type": "stream",
          "text": [
            "WARNING:tensorflow:From /usr/local/lib/python3.6/dist-packages/tensorflow/python/ops/control_flow_ops.py:3632: colocate_with (from tensorflow.python.framework.ops) is deprecated and will be removed in a future version.\n",
            "Instructions for updating:\n",
            "Colocations handled automatically by placer.\n"
          ],
          "name": "stdout"
        },
        {
          "output_type": "stream",
          "text": [
            "W0610 04:25:01.621011 140440550578048 deprecation.py:323] From /usr/local/lib/python3.6/dist-packages/tensorflow/python/ops/control_flow_ops.py:3632: colocate_with (from tensorflow.python.framework.ops) is deprecated and will be removed in a future version.\n",
            "Instructions for updating:\n",
            "Colocations handled automatically by placer.\n"
          ],
          "name": "stderr"
        },
        {
          "output_type": "stream",
          "text": [
            "INFO:tensorflow:Saver not created because there are no variables in the graph to restore\n"
          ],
          "name": "stdout"
        },
        {
          "output_type": "stream",
          "text": [
            "I0610 04:25:06.408426 140440550578048 saver.py:1483] Saver not created because there are no variables in the graph to restore\n"
          ],
          "name": "stderr"
        }
      ]
    },
    {
      "cell_type": "code",
      "metadata": {
        "id": "W8OsDRavHfbT",
        "colab_type": "code",
        "outputId": "f03de821-b001-4453-b1f2-e336dad80f68",
        "colab": {
          "base_uri": "https://localhost:8080/",
          "height": 34
        }
      },
      "source": [
        "%cd .."
      ],
      "execution_count": 0,
      "outputs": [
        {
          "output_type": "stream",
          "text": [
            "/\n"
          ],
          "name": "stdout"
        }
      ]
    },
    {
      "cell_type": "code",
      "metadata": {
        "id": "RMuxvFlfHiaG",
        "colab_type": "code",
        "outputId": "8f413f7b-c1b7-46df-ce49-ced7f935c9ee",
        "colab": {
          "base_uri": "https://localhost:8080/",
          "height": 68
        }
      },
      "source": [
        "!ls"
      ],
      "execution_count": 0,
      "outputs": [
        {
          "output_type": "stream",
          "text": [
            "bin\t datalab  gdrive  lib32  mnt   root  srv    tensorflow-2.0.0a0\tusr\n",
            "boot\t dev\t  home\t  lib64  opt   run   swift  tmp\t\t\tvar\n",
            "content  etc\t  lib\t  media  proc  sbin  sys    tools\n"
          ],
          "name": "stdout"
        }
      ]
    },
    {
      "cell_type": "code",
      "metadata": {
        "id": "CXnLrP6rHlXn",
        "colab_type": "code",
        "outputId": "f9ca7912-2d06-4f4c-8edb-53da582bb7c8",
        "colab": {
          "base_uri": "https://localhost:8080/",
          "height": 34
        }
      },
      "source": [
        "%cd gdrive"
      ],
      "execution_count": 0,
      "outputs": [
        {
          "output_type": "stream",
          "text": [
            "/gdrive\n"
          ],
          "name": "stdout"
        }
      ]
    },
    {
      "cell_type": "code",
      "metadata": {
        "id": "I52t8TpQHpSX",
        "colab_type": "code",
        "outputId": "c6f1e131-d9b4-42a0-b6c9-76de01e54adf",
        "colab": {
          "base_uri": "https://localhost:8080/",
          "height": 34
        }
      },
      "source": [
        "!ls"
      ],
      "execution_count": 0,
      "outputs": [
        {
          "output_type": "stream",
          "text": [
            "'My Drive'\n"
          ],
          "name": "stdout"
        }
      ]
    },
    {
      "cell_type": "code",
      "metadata": {
        "id": "7o38GcHcHth_",
        "colab_type": "code",
        "outputId": "b62b6293-a16f-43ea-8c49-0a25e5be5db8",
        "colab": {
          "base_uri": "https://localhost:8080/",
          "height": 34
        }
      },
      "source": [
        "%cd My Drive"
      ],
      "execution_count": 0,
      "outputs": [
        {
          "output_type": "stream",
          "text": [
            "/gdrive/My Drive\n"
          ],
          "name": "stdout"
        }
      ]
    },
    {
      "cell_type": "code",
      "metadata": {
        "id": "eTqseT8rHx9o",
        "colab_type": "code",
        "outputId": "4b52a760-0a1e-4d7a-ac6d-87e342f0c57e",
        "colab": {
          "base_uri": "https://localhost:8080/",
          "height": 340
        }
      },
      "source": [
        "!ls"
      ],
      "execution_count": 0,
      "outputs": [
        {
          "output_type": "stream",
          "text": [
            "'Colab Notebooks'\n",
            " example1.txt\n",
            " example2.txt\n",
            " example.txt\n",
            " final_message_embeddings10000.txt\n",
            "'Sample file (1).txt'\n",
            "'Sample file.txt'\n",
            " testdata.manual.2009.06.14.csv\n",
            " test.ipynb\n",
            " test.out\n",
            " training.1600000.processed.noemoticon.csv\n",
            " training.1600000.processed.noemoticonshuffled.csv\n",
            " training.1600000.processed.noemoticonshuffled.final.csv\n",
            " Untitled0.ipynb\n",
            "'Untitled 1.gdoc'\n",
            "'Untitled document (1).docx'\n",
            "'Untitled document (1).gdoc'\n",
            "'Untitled document.docx'\n",
            "'Untitled document.gdoc'\n"
          ],
          "name": "stdout"
        }
      ]
    },
    {
      "cell_type": "code",
      "metadata": {
        "id": "r_7oRGCr_sbc",
        "colab_type": "code",
        "colab": {}
      },
      "source": [
        "train_data=pd.read_csv(\"training.1600000.processed.noemoticonshuffled.final.csv\",encoding='latin')"
      ],
      "execution_count": 0,
      "outputs": []
    },
    {
      "cell_type": "code",
      "metadata": {
        "id": "sI9M9iXmAzQs",
        "colab_type": "code",
        "colab": {}
      },
      "source": [
        "train=[[a,b]for a,b in zip(train_data.Sentiment,train_data.SentimentText) ]"
      ],
      "execution_count": 0,
      "outputs": []
    },
    {
      "cell_type": "code",
      "metadata": {
        "id": "cH_AZ6xXBamT",
        "colab_type": "code",
        "colab": {}
      },
      "source": [
        "for i in range(len(train)):\n",
        "  t=train[i][1]\n",
        "  train[i][1]= \" \".join(filter(lambda x:x[0]!='@', t.split()))"
      ],
      "execution_count": 0,
      "outputs": []
    },
    {
      "cell_type": "code",
      "metadata": {
        "id": "ZK41iW6hovc1",
        "colab_type": "code",
        "colab": {}
      },
      "source": [
        "for i in range(len(train)):\n",
        "  t=train[i][1]\n",
        "  t=t.split('#')\n",
        "  train[i][1]=''.join(t)"
      ],
      "execution_count": 0,
      "outputs": []
    },
    {
      "cell_type": "code",
      "metadata": {
        "id": "d_XuI-M8VNUs",
        "colab_type": "code",
        "colab": {}
      },
      "source": [
        "import re\n",
        "for i in range(len(train)):\n",
        "  t=train[i][1]\n",
        "  train[i][1]=re.sub(r'''(?i)\\b((?:https?://|www\\d{0,3}[.]|[a-z0-9.\\-]+[.][a-z]{2,4}/)(?:[^\\s()<>]+|\\(([^\\s()<>]+|(\\([^\\s()<>]+\\)))*\\))+(?:\\(([^\\s()<>]+|(\\([^\\s()<>]+\\)))*\\)|[^\\s`!()\\[\\]{};:'\".,<>?«»“”‘’]))''', \" \", t)\n"
      ],
      "execution_count": 0,
      "outputs": []
    },
    {
      "cell_type": "code",
      "metadata": {
        "id": "hvCzXr5cEAYJ",
        "colab_type": "code",
        "colab": {}
      },
      "source": [
        "messages=[]\n",
        "Y_Labels=[]\n",
        "for i in range(len(train)):\n",
        "  messages.append(train[i][1])\n",
        "  Y_Labels.append(train[i][0])\n"
      ],
      "execution_count": 0,
      "outputs": []
    },
    {
      "cell_type": "code",
      "metadata": {
        "id": "Xtg9pe_zDU08",
        "colab_type": "code",
        "outputId": "671ac1f9-ba73-4ba1-bb0e-1dc64a956198",
        "colab": {
          "base_uri": "https://localhost:8080/",
          "height": 51
        }
      },
      "source": [
        "with tf.Session() as session:\n",
        "  session.run([tf.global_variables_initializer(), tf.tables_initializer()])\n",
        "  message_embeddings10000 = session.run(embed(messages[0:10000]))"
      ],
      "execution_count": 0,
      "outputs": [
        {
          "output_type": "stream",
          "text": [
            "INFO:tensorflow:Saver not created because there are no variables in the graph to restore\n"
          ],
          "name": "stdout"
        },
        {
          "output_type": "stream",
          "text": [
            "I0610 04:26:26.538003 140440550578048 saver.py:1483] Saver not created because there are no variables in the graph to restore\n"
          ],
          "name": "stderr"
        }
      ]
    },
    {
      "cell_type": "code",
      "metadata": {
        "id": "4L1VSjkxE1Ue",
        "colab_type": "code",
        "outputId": "8509fb37-def6-4e29-d675-56ae2383266a",
        "colab": {
          "base_uri": "https://localhost:8080/",
          "height": 51
        }
      },
      "source": [
        "with tf.Session() as session:\n",
        "  session.run([tf.global_variables_initializer(), tf.tables_initializer()])\n",
        "  message_embeddings20000 = session.run(embed(messages[10000:20000]))"
      ],
      "execution_count": 0,
      "outputs": [
        {
          "output_type": "stream",
          "text": [
            "INFO:tensorflow:Saver not created because there are no variables in the graph to restore\n"
          ],
          "name": "stdout"
        },
        {
          "output_type": "stream",
          "text": [
            "I0610 04:26:37.453215 140440550578048 saver.py:1483] Saver not created because there are no variables in the graph to restore\n"
          ],
          "name": "stderr"
        }
      ]
    },
    {
      "cell_type": "code",
      "metadata": {
        "id": "3ChSo5AqFQw7",
        "colab_type": "code",
        "outputId": "537d72d0-423a-4b70-9cd8-56e0e0d15370",
        "colab": {
          "base_uri": "https://localhost:8080/",
          "height": 51
        }
      },
      "source": [
        "with tf.Session() as session:\n",
        "  session.run([tf.global_variables_initializer(), tf.tables_initializer()])\n",
        "  message_embeddings30000 = session.run(embed(messages[20000:30000]))"
      ],
      "execution_count": 0,
      "outputs": [
        {
          "output_type": "stream",
          "text": [
            "INFO:tensorflow:Saver not created because there are no variables in the graph to restore\n"
          ],
          "name": "stdout"
        },
        {
          "output_type": "stream",
          "text": [
            "I0610 04:26:50.252479 140440550578048 saver.py:1483] Saver not created because there are no variables in the graph to restore\n"
          ],
          "name": "stderr"
        }
      ]
    },
    {
      "cell_type": "code",
      "metadata": {
        "id": "35xiv8yFG473",
        "colab_type": "code",
        "outputId": "2924786b-d008-4499-9274-7caf51c5de10",
        "colab": {
          "base_uri": "https://localhost:8080/",
          "height": 51
        }
      },
      "source": [
        "with tf.Session() as session:\n",
        "  session.run([tf.global_variables_initializer(), tf.tables_initializer()])\n",
        "  message_embeddings40000 = session.run(embed(messages[30000:40000]))"
      ],
      "execution_count": 0,
      "outputs": [
        {
          "output_type": "stream",
          "text": [
            "INFO:tensorflow:Saver not created because there are no variables in the graph to restore\n"
          ],
          "name": "stdout"
        },
        {
          "output_type": "stream",
          "text": [
            "I0610 04:27:01.715773 140440550578048 saver.py:1483] Saver not created because there are no variables in the graph to restore\n"
          ],
          "name": "stderr"
        }
      ]
    },
    {
      "cell_type": "code",
      "metadata": {
        "id": "pLq5pXGNH95y",
        "colab_type": "code",
        "outputId": "c748b23e-7fee-4461-cfef-6b56328dbaed",
        "colab": {
          "base_uri": "https://localhost:8080/",
          "height": 51
        }
      },
      "source": [
        "with tf.Session() as session:\n",
        "  session.run([tf.global_variables_initializer(), tf.tables_initializer()])\n",
        "  message_embeddings50000 = session.run(embed(messages[40000:50000]))"
      ],
      "execution_count": 0,
      "outputs": [
        {
          "output_type": "stream",
          "text": [
            "INFO:tensorflow:Saver not created because there are no variables in the graph to restore\n"
          ],
          "name": "stdout"
        },
        {
          "output_type": "stream",
          "text": [
            "I0610 04:27:13.766615 140440550578048 saver.py:1483] Saver not created because there are no variables in the graph to restore\n"
          ],
          "name": "stderr"
        }
      ]
    },
    {
      "cell_type": "code",
      "metadata": {
        "id": "X_N-4ReKXIgS",
        "colab_type": "code",
        "outputId": "6e81a056-1a2f-4580-9779-465213b2bee4",
        "colab": {
          "base_uri": "https://localhost:8080/",
          "height": 51
        }
      },
      "source": [
        "with tf.Session() as session:\n",
        "  session.run([tf.global_variables_initializer(), tf.tables_initializer()])\n",
        "  message_embeddings60000 = session.run(embed(messages[50000:60000]))"
      ],
      "execution_count": 0,
      "outputs": [
        {
          "output_type": "stream",
          "text": [
            "INFO:tensorflow:Saver not created because there are no variables in the graph to restore\n"
          ],
          "name": "stdout"
        },
        {
          "output_type": "stream",
          "text": [
            "I0610 04:27:26.319633 140440550578048 saver.py:1483] Saver not created because there are no variables in the graph to restore\n"
          ],
          "name": "stderr"
        }
      ]
    },
    {
      "cell_type": "code",
      "metadata": {
        "id": "UZBq4SB_rprf",
        "colab_type": "code",
        "outputId": "630b0f29-8fd2-49f3-920f-c00b8a1a7eed",
        "colab": {
          "base_uri": "https://localhost:8080/",
          "height": 51
        }
      },
      "source": [
        "with tf.Session() as session:\n",
        "  session.run([tf.global_variables_initializer(), tf.tables_initializer()])\n",
        "  message_embeddings70000 = session.run(embed(messages[60000:70000]))"
      ],
      "execution_count": 0,
      "outputs": [
        {
          "output_type": "stream",
          "text": [
            "INFO:tensorflow:Saver not created because there are no variables in the graph to restore\n"
          ],
          "name": "stdout"
        },
        {
          "output_type": "stream",
          "text": [
            "I0610 04:27:42.693735 140440550578048 saver.py:1483] Saver not created because there are no variables in the graph to restore\n"
          ],
          "name": "stderr"
        }
      ]
    },
    {
      "cell_type": "code",
      "metadata": {
        "id": "1PKzXwzAFc3l",
        "colab_type": "code",
        "colab": {}
      },
      "source": [
        "final_message_embeddings= np.concatenate((message_embeddings10000,  message_embeddings20000 ,message_embeddings30000,message_embeddings40000,message_embeddings50000,message_embeddings60000,message_embeddings70000), axis=0)"
      ],
      "execution_count": 0,
      "outputs": []
    },
    {
      "cell_type": "code",
      "metadata": {
        "id": "tabvNUGQEjjb",
        "colab_type": "code",
        "colab": {}
      },
      "source": [
        "trainX=final_message_embeddings"
      ],
      "execution_count": 0,
      "outputs": []
    },
    {
      "cell_type": "code",
      "metadata": {
        "id": "HNvGczzYlX89",
        "colab_type": "code",
        "colab": {}
      },
      "source": [
        "trainY=Y_Labels[0:70000]"
      ],
      "execution_count": 0,
      "outputs": []
    },
    {
      "cell_type": "code",
      "metadata": {
        "id": "aXxz4PDdl3zA",
        "colab_type": "code",
        "colab": {}
      },
      "source": [
        "l=[]\n",
        "for i in trainY:\n",
        "  if(i==4):\n",
        "    l.append(1)\n",
        "  else:\n",
        "    l.append(0)"
      ],
      "execution_count": 0,
      "outputs": []
    },
    {
      "cell_type": "code",
      "metadata": {
        "id": "W8-J5ZmEr2C5",
        "colab_type": "code",
        "colab": {}
      },
      "source": [
        "trainY=l"
      ],
      "execution_count": 0,
      "outputs": []
    },
    {
      "cell_type": "code",
      "metadata": {
        "id": "-LUyNKAeCvZJ",
        "colab_type": "code",
        "colab": {}
      },
      "source": [
        "import tensorflow as tf\n",
        "from tensorflow.keras.models import Sequential\n",
        "from tensorflow.keras.layers import Dense,Dropout,LSTM,BatchNormalization"
      ],
      "execution_count": 0,
      "outputs": []
    },
    {
      "cell_type": "code",
      "metadata": {
        "id": "GfEPiO4snEhx",
        "colab_type": "code",
        "outputId": "9dd39ad8-a064-4a26-e2b6-3ac3cf31a20e",
        "colab": {
          "base_uri": "https://localhost:8080/",
          "height": 139
        }
      },
      "source": [
        "model = Sequential()\n",
        "#model.add(LSTM(256,input_shape=(512,1),activation='sigmoid',return_sequences=True))\n",
        "#model.add(LSTM(125,activation='sigmoid'))\n",
        "model.add(Dense(128,activation='sigmoid',input_shape=(512,)))\n",
        "model.add(BatchNormalization())\n",
        "model.add(Dropout(0.2))\n",
        "model.add(Dense(64,activation=\"sigmoid\"))\n",
        "model.add(BatchNormalization())\n",
        "model.add(Dropout(0.2))\n",
        "model.add(Dense(32,activation=\"sigmoid\"))\n",
        "model.add(BatchNormalization())\n",
        "model.add(Dropout(0.2))\n",
        "model.add(Dense(2,activation='softmax'))\n",
        "opt=tf.keras.optimizers.Adam(lr=0.001,decay=1e-5)\n",
        "model.compile(loss='sparse_categorical_crossentropy',optimizer=opt,metrics=['accuracy'])"
      ],
      "execution_count": 0,
      "outputs": [
        {
          "output_type": "stream",
          "text": [
            "WARNING:tensorflow:From /usr/local/lib/python3.6/dist-packages/tensorflow/python/keras/layers/core.py:143: calling dropout (from tensorflow.python.ops.nn_ops) with keep_prob is deprecated and will be removed in a future version.\n",
            "Instructions for updating:\n",
            "Please use `rate` instead of `keep_prob`. Rate should be set to `rate = 1 - keep_prob`.\n"
          ],
          "name": "stdout"
        },
        {
          "output_type": "stream",
          "text": [
            "W0610 04:28:13.650332 140440550578048 deprecation.py:506] From /usr/local/lib/python3.6/dist-packages/tensorflow/python/keras/layers/core.py:143: calling dropout (from tensorflow.python.ops.nn_ops) with keep_prob is deprecated and will be removed in a future version.\n",
            "Instructions for updating:\n",
            "Please use `rate` instead of `keep_prob`. Rate should be set to `rate = 1 - keep_prob`.\n"
          ],
          "name": "stderr"
        }
      ]
    },
    {
      "cell_type": "markdown",
      "metadata": {
        "id": "8CdDeo9vlNGe",
        "colab_type": "text"
      },
      "source": [
        ""
      ]
    },
    {
      "cell_type": "code",
      "metadata": {
        "id": "wEQP5B-JlPJR",
        "colab_type": "code",
        "outputId": "205cb6a9-e872-4ba9-edfc-3079ceb23e7b",
        "colab": {
          "base_uri": "https://localhost:8080/",
          "height": 836
        }
      },
      "source": [
        "history=model.fit(trainX[:66000],trainY[:66000],epochs=20,validation_data=(trainX[66000:],trainY[66000:]),batch_size=1024)"
      ],
      "execution_count": 0,
      "outputs": [
        {
          "output_type": "stream",
          "text": [
            "Train on 66000 samples, validate on 4000 samples\n",
            "WARNING:tensorflow:From /usr/local/lib/python3.6/dist-packages/tensorflow/python/ops/math_ops.py:3066: to_int32 (from tensorflow.python.ops.math_ops) is deprecated and will be removed in a future version.\n",
            "Instructions for updating:\n",
            "Use tf.cast instead.\n"
          ],
          "name": "stdout"
        },
        {
          "output_type": "stream",
          "text": [
            "W0610 04:28:20.683752 140440550578048 deprecation.py:323] From /usr/local/lib/python3.6/dist-packages/tensorflow/python/ops/math_ops.py:3066: to_int32 (from tensorflow.python.ops.math_ops) is deprecated and will be removed in a future version.\n",
            "Instructions for updating:\n",
            "Use tf.cast instead.\n"
          ],
          "name": "stderr"
        },
        {
          "output_type": "stream",
          "text": [
            "Epoch 1/20\n",
            "66000/66000 [==============================] - 3s 39us/sample - loss: 0.5110 - acc: 0.7710 - val_loss: 0.6945 - val_acc: 0.4848\n",
            "Epoch 2/20\n",
            "66000/66000 [==============================] - 1s 8us/sample - loss: 0.4488 - acc: 0.7982 - val_loss: 0.6854 - val_acc: 0.4848\n",
            "Epoch 3/20\n",
            "66000/66000 [==============================] - 1s 8us/sample - loss: 0.4337 - acc: 0.8045 - val_loss: 0.6681 - val_acc: 0.5483\n",
            "Epoch 4/20\n",
            "66000/66000 [==============================] - 1s 8us/sample - loss: 0.4239 - acc: 0.8090 - val_loss: 0.6372 - val_acc: 0.7620\n",
            "Epoch 5/20\n",
            "66000/66000 [==============================] - 1s 8us/sample - loss: 0.4193 - acc: 0.8116 - val_loss: 0.5901 - val_acc: 0.7947\n",
            "Epoch 6/20\n",
            "66000/66000 [==============================] - 1s 8us/sample - loss: 0.4153 - acc: 0.8129 - val_loss: 0.5359 - val_acc: 0.8090\n",
            "Epoch 7/20\n",
            "66000/66000 [==============================] - 1s 8us/sample - loss: 0.4127 - acc: 0.8139 - val_loss: 0.4798 - val_acc: 0.8130\n",
            "Epoch 8/20\n",
            "66000/66000 [==============================] - 1s 8us/sample - loss: 0.4104 - acc: 0.8144 - val_loss: 0.4436 - val_acc: 0.8117\n",
            "Epoch 9/20\n",
            "66000/66000 [==============================] - 1s 8us/sample - loss: 0.4096 - acc: 0.8145 - val_loss: 0.4240 - val_acc: 0.8152\n",
            "Epoch 10/20\n",
            "66000/66000 [==============================] - 1s 8us/sample - loss: 0.4093 - acc: 0.8161 - val_loss: 0.4130 - val_acc: 0.8130\n",
            "Epoch 11/20\n",
            "66000/66000 [==============================] - 1s 8us/sample - loss: 0.4073 - acc: 0.8157 - val_loss: 0.4085 - val_acc: 0.8150\n",
            "Epoch 12/20\n",
            "66000/66000 [==============================] - 1s 8us/sample - loss: 0.4059 - acc: 0.8174 - val_loss: 0.4044 - val_acc: 0.8138\n",
            "Epoch 13/20\n",
            "66000/66000 [==============================] - 1s 8us/sample - loss: 0.4037 - acc: 0.8178 - val_loss: 0.4040 - val_acc: 0.8155\n",
            "Epoch 14/20\n",
            "66000/66000 [==============================] - 1s 8us/sample - loss: 0.4031 - acc: 0.8200 - val_loss: 0.4024 - val_acc: 0.8177\n",
            "Epoch 15/20\n",
            "66000/66000 [==============================] - 1s 8us/sample - loss: 0.4024 - acc: 0.8190 - val_loss: 0.4055 - val_acc: 0.8148\n",
            "Epoch 16/20\n",
            "66000/66000 [==============================] - 1s 8us/sample - loss: 0.4016 - acc: 0.8188 - val_loss: 0.4020 - val_acc: 0.8150\n",
            "Epoch 17/20\n",
            "66000/66000 [==============================] - 1s 8us/sample - loss: 0.4013 - acc: 0.8185 - val_loss: 0.4020 - val_acc: 0.8180\n",
            "Epoch 18/20\n",
            "66000/66000 [==============================] - 1s 8us/sample - loss: 0.3999 - acc: 0.8202 - val_loss: 0.4026 - val_acc: 0.8175\n",
            "Epoch 19/20\n",
            "66000/66000 [==============================] - 1s 8us/sample - loss: 0.3992 - acc: 0.8192 - val_loss: 0.4039 - val_acc: 0.8140\n",
            "Epoch 20/20\n",
            "66000/66000 [==============================] - 1s 8us/sample - loss: 0.3989 - acc: 0.8199 - val_loss: 0.4043 - val_acc: 0.8158\n"
          ],
          "name": "stdout"
        }
      ]
    },
    {
      "cell_type": "code",
      "metadata": {
        "id": "YBA8IoGySKrK",
        "colab_type": "code",
        "outputId": "9e0483a9-dd66-452d-efc6-9b64d4dd061e",
        "colab": {
          "base_uri": "https://localhost:8080/",
          "height": 286
        }
      },
      "source": [
        "import matplotlib.pyplot as plt\n",
        "%matplotlib inline\n",
        "plt.plot(history.history[\"val_loss\"],label=\"validation\")\n",
        "plt.plot(history.history[\"loss\"],label=\"train\")\n",
        "plt.legend()"
      ],
      "execution_count": 0,
      "outputs": [
        {
          "output_type": "execute_result",
          "data": {
            "text/plain": [
              "<matplotlib.legend.Legend at 0x7fb98768c780>"
            ]
          },
          "metadata": {
            "tags": []
          },
          "execution_count": 41
        },
        {
          "output_type": "display_data",
          "data": {
            "image/png": "[encoded data removed]",
            "text/plain": [
              "<Figure size 432x288 with 1 Axes>"
            ]
          },
          "metadata": {
            "tags": []
          }
        }
      ]
    },
    {
      "cell_type": "code",
      "metadata": {
        "id": "TxrwykG4z6AH",
        "colab_type": "code",
        "colab": {}
      },
      "source": [
        "import matplotlib"
      ],
      "execution_count": 0,
      "outputs": []
    },
    {
      "cell_type": "code",
      "metadata": {
        "id": "JVuS10Ebso-m",
        "colab_type": "code",
        "colab": {}
      },
      "source": [
        "dates = matplotlib.dates.date2num(qq)\n",
        "#plt.rcParams[\"figure.figsize\"] = [50,50]\n",
        "#plt.plot_date(dates, pred)"
      ],
      "execution_count": 0,
      "outputs": []
    },
    {
      "cell_type": "code",
      "metadata": {
        "id": "tv1tkqPYRMIH",
        "colab_type": "code",
        "colab": {}
      },
      "source": [
        "pred=model.predict_classes(predict_embeddings)"
      ],
      "execution_count": 0,
      "outputs": []
    },
    {
      "cell_type": "code",
      "metadata": {
        "id": "1TLOkmW9pzob",
        "colab_type": "code",
        "colab": {}
      },
      "source": [
        "d={'x':qq,'y':pred,'text':z2[0:10000]}"
      ],
      "execution_count": 0,
      "outputs": []
    },
    {
      "cell_type": "code",
      "metadata": {
        "id": "tSeAJDZVooes",
        "colab_type": "code",
        "colab": {}
      },
      "source": [
        "df=pd.DataFrame(data=d)"
      ],
      "execution_count": 0,
      "outputs": []
    },
    {
      "cell_type": "code",
      "metadata": {
        "id": "S89WNx5ZqJ-D",
        "colab_type": "code",
        "colab": {}
      },
      "source": [
        "df.to_csv('plot1.csv')"
      ],
      "execution_count": 0,
      "outputs": []
    },
    {
      "cell_type": "code",
      "metadata": {
        "id": "F9K1vKQQqV58",
        "colab_type": "code",
        "colab": {}
      },
      "source": [
        "from google.colab import files\n",
        "files.download('plot1.csv')"
      ],
      "execution_count": 0,
      "outputs": []
    },
    {
      "cell_type": "code",
      "metadata": {
        "id": "q06p0dAjsIzW",
        "colab_type": "code",
        "colab": {}
      },
      "source": [
        "#from sklearn.metrics import accuracy_score,roc_auc_score,f1_score"
      ],
      "execution_count": 0,
      "outputs": []
    },
    {
      "cell_type": "code",
      "metadata": {
        "id": "whTLgSGQRcwd",
        "colab_type": "code",
        "outputId": "7a75ea81-0801-45f2-e322-9cf16cf50986",
        "colab": {
          "base_uri": "https://localhost:8080/",
          "height": 34
        }
      },
      "source": [
        "#accuracy_score(pred,l)"
      ],
      "execution_count": 0,
      "outputs": [
        {
          "output_type": "execute_result",
          "data": {
            "text/plain": [
              "0.8205"
            ]
          },
          "metadata": {
            "tags": []
          },
          "execution_count": 114
        }
      ]
    }
  ]
}